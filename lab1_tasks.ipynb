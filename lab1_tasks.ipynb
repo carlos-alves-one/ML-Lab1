{
 "cells": [
  {
   "attachments": {},
   "cell_type": "markdown",
   "metadata": {},
   "source": [
    "### Goldsmiths University of London\n",
    "### Author....: Carlos Manuel de Oliveira Alves\n",
    "### Student...: cdeol003\n",
    "### Created...: 23/01/2023\n",
    "### Lab No....: 1"
   ]
  },
  {
   "attachments": {},
   "cell_type": "markdown",
   "metadata": {},
   "source": [
    "## Task a)\n",
    "#### Write a function which has 2 strings as input, and tests and prints whether or not they have the same length. In case they have the same length, this length needs also to be printed. Check that your function works correctly."
   ]
  },
  {
   "cell_type": "code",
   "execution_count": 2,
   "metadata": {},
   "outputs": [
    {
     "name": "stdout",
     "output_type": "stream",
     "text": [
      "The strings have different lengths\n"
     ]
    }
   ],
   "source": [
    "# write a function which has 2 strings as input and tests and prints whether or not they have the same length\n",
    "def check_length(str1, str2):\n",
    "    if len(str1) == len(str2):\n",
    "        print(\"The strings have the same length\")\n",
    "    else:\n",
    "        print(\"The strings have different lengths\")\n",
    "\n",
    "# declare 2 strings\n",
    "str1 = \"Hello\"\n",
    "str2 = \"World 2\"\n",
    "\n",
    "# call the function\n",
    "check_length(str1, str2)"
   ]
  },
  {
   "attachments": {},
   "cell_type": "markdown",
   "metadata": {},
   "source": [
    "## Task b)\n",
    "#### Write a function that counts the negative numbers contained in a list. Check that your function works correctly."
   ]
  },
  {
   "cell_type": "code",
   "execution_count": 3,
   "metadata": {},
   "outputs": [
    {
     "name": "stdout",
     "output_type": "stream",
     "text": [
      "3\n"
     ]
    }
   ],
   "source": [
    "# write a function that counts the negative numbers in a list\n",
    "def count_negatives(lst):\n",
    "    count = 0\n",
    "    for i in lst:\n",
    "        if i < 0:\n",
    "            count += 1\n",
    "    return count\n",
    "\n",
    "# check the function works correctly\n",
    "lst = [1, 2, 3, -1, -2, -3]\n",
    "print(count_negatives(lst))"
   ]
  },
  {
   "attachments": {},
   "cell_type": "markdown",
   "metadata": {},
   "source": [
    "## Task c)\n",
    "#### Write a function which has as input a list which contains numbers and also missing values, and computes a list identical with the first list but in which missing values are replaced with the mean of the numbers in the first list (see in section 1.4 how missing values are represented). Check that your function works correctly."
   ]
  },
  {
   "cell_type": "code",
   "execution_count": 5,
   "metadata": {},
   "outputs": [
    {
     "name": "stdout",
     "output_type": "stream",
     "text": [
      "[1, 2, 3, 2.75, 5, 2.75]\n"
     ]
    }
   ],
   "source": [
    "# write a function which has as input a list which contains numbers and also missing values, and computes a list identical with the first list \n",
    "# but in which missing values are replaced with the mean of the numbers in the first list\n",
    "def replace_missing(lst):\n",
    "    # compute the mean\n",
    "    # the line below it will generate an error if the list contains None values\n",
    "    # mean = sum(lst) / len(lst)\n",
    "    # the line below will work even if the list contains None values\n",
    "    mean = sum([x for x in lst if x != None]) / len([x for x in lst if x != None])\n",
    "    # replace the missing values\n",
    "    for i in range(len(lst)):\n",
    "        if lst[i] == None:\n",
    "            lst[i] = mean\n",
    "    return lst\n",
    "\n",
    "# check the function works correctly\n",
    "lst = [1, 2, 3, None, 5, None]\n",
    "print(replace_missing(lst))\n"
   ]
  }
 ],
 "metadata": {
  "kernelspec": {
   "display_name": "Python 3",
   "language": "python",
   "name": "python3"
  },
  "language_info": {
   "codemirror_mode": {
    "name": "ipython",
    "version": 3
   },
   "file_extension": ".py",
   "mimetype": "text/x-python",
   "name": "python",
   "nbconvert_exporter": "python",
   "pygments_lexer": "ipython3",
   "version": "3.9.13"
  },
  "orig_nbformat": 4,
  "vscode": {
   "interpreter": {
    "hash": "45d680b53dd59098257682a39d3543fddeca95e541b2c6ea1b49c6cd756418f3"
   }
  }
 },
 "nbformat": 4,
 "nbformat_minor": 2
}
